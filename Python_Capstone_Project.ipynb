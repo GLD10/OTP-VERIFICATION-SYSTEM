{
  "nbformat": 4,
  "nbformat_minor": 0,
  "metadata": {
    "colab": {
      "provenance": []
    },
    "kernelspec": {
      "name": "python3",
      "display_name": "Python 3"
    },
    "language_info": {
      "name": "python"
    }
  },
  "cells": [
    {
      "cell_type": "code",
      "source": [
        "import random\n",
        "import smtplib\n",
        "from email.mime.text import MIMEText\n",
        "from email.mime.multipart import MIMEMultipart\n",
        "\n",
        "def generate_otp():\n",
        "  return random.randint(100000,999999)\n",
        "\n",
        "def send_otp_email(recipient_email,otp):\n",
        "    sender_email = \"gaddamdeepak2001@gmail.com\"\n",
        "    sender_password = \"hkiy hzug iwqj mlcn\"\n",
        "\n",
        "    subject = \"Your Unique OTP Code\"\n",
        "    body = f\"Hello! You've got an OTP! \\nYour One Time Password(OTP) is: {otp}\\nPlease Use this otp to verifty your identity.\"\n",
        "    message = MIMEMultipart()\n",
        "    message['From'] = sender_email\n",
        "    message['To'] = recipient_email\n",
        "    message['Subject'] = subject\n",
        "    message.attach(MIMEText(body, 'plain'))\n",
        "\n",
        "    try:\n",
        "      with smtplib.SMTP('smtp.gmail.com', 587) as server:\n",
        "        server.starttls()\n",
        "        server.login(sender_email, sender_password)\n",
        "        server.send_message(message)\n",
        "        print(\"OTP sent successfully!\")\n",
        "    except Exception as e:\n",
        "        print(f\"An unexpected error occurred: {e}\")\n",
        "\n",
        "def verify_otp(generated_otp):\n",
        "  attempts = 3\n",
        "  while attempts > 0:\n",
        "      user_input = int(input(\"Enter the OTP sent to your email: \"))\n",
        "      if user_input == generated_otp:\n",
        "        print(\"Access Granted! OTP verified successfully.\")\n",
        "        return True\n",
        "      elif len(str(user_input)) < 6:\n",
        "        print(\"Invalid Input. Please enter a 6-digit Number.\")\n",
        "        attempts -= 1\n",
        "        print(f\"You have {attempts} attempts left.\")\n",
        "      else:\n",
        "        attempts -= 1\n",
        "        print(f\"Entered Incorrect OTP. You have {attempts} attempts left.\")\n",
        "\n",
        "  print(\"Access Denied. Too many incorrect attempts.\")\n",
        "  return False\n",
        "\n",
        "def main():\n",
        "  print(\"Welcome to the OTP Verification System\")\n",
        "  recipient_email = input(\"Enter your email address: \")\n",
        "  otp = generate_otp()\n",
        "  send_otp_email(recipient_email,otp)\n",
        "  verify_otp(otp)\n",
        "\n",
        "if __name__ == \"__main__\":\n",
        "  main()"
      ],
      "metadata": {
        "id": "fz0J5iNoyub8",
        "colab": {
          "base_uri": "https://localhost:8080/"
        },
        "outputId": "48d399e6-1dd1-4a77-80dc-ea9cb77640ab"
      },
      "execution_count": 1,
      "outputs": [
        {
          "output_type": "stream",
          "name": "stdout",
          "text": [
            "Welcome to the OTP Verification System\n",
            "Enter your email address: deepaak2071@gmail.com\n",
            "OTP sent successfully!\n",
            "Enter the OTP sent to your email: 397840\n",
            "Access Granted! OTP verified successfully.\n"
          ]
        }
      ]
    }
  ]
}